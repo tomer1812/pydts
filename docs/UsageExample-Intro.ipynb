{
 "cells": [
  {
   "cell_type": "markdown",
   "id": "814aa1f2",
   "metadata": {
    "pycharm": {
     "name": "#%% md\n"
    }
   },
   "source": [
    "# Introduction"
   ]
  },
  {
   "cell_type": "markdown",
   "id": "4a62c963",
   "metadata": {
    "pycharm": {
     "name": "#%% md\n"
    }
   },
   "source": [
    "*PyDTS* currently includes two estimation procedures:\n",
    "\n",
    "1. `TwoStagesFitter` - a python implementation of our estimation method [1].\n",
    "\n",
    "2. `DataExpansionFitter` - a python implementation of the estimation method of Lee et al. (2018) [2].\n",
    "\n",
    "\n",
    "The following example demonstrates the required data preparation steps, and applies our estimation procedure (Meir et. al., 2022) and that of Lee et al. (2018). As expected, both methods perform similarly in terms of point estimation and standard errors, while that of Meir et al (2022) is much faster. \n",
    "\n",
    "The following sections includes:\n",
    "\n",
    "1. Data Preparation\n",
    "2. Estimating with `TwoStagesFitter`\n",
    "3. `TwoStagesFitter` Prediction\n",
    "4. Estimating with `DataExpansionFitter`\n",
    "5. `DataExpansionFitter` Prediction\n",
    "\n",
    "For details about the estimation methods, please see Methods section.\n",
    "\n",
    "For a detailed comparison between the two estimation techniques, based on as simulation study, see Meir et al. (2022)."
   ]
  },
  {
   "cell_type": "markdown",
   "source": [
    "## References\n",
    "\n",
    "[1] Meir, Tomer, Gutman, Rom, and Gorfine, Malka, \"PyDTS: A Python Package for Discrete-Time Survival Analysis with Competing Risks\" (2022)\n",
    "\n",
    "[2] Lee, Minjung and Feuer, Eric J. and Fine, Jason P., \"On the analysis of discrete time competing risks data\", Biometrics (2018) doi: 10.1111/biom.12881"
   ],
   "metadata": {
    "collapsed": false,
    "pycharm": {
     "name": "#%% md\n"
    }
   }
  }
 ],
 "metadata": {
  "kernelspec": {
   "display_name": "Python 3 (ipykernel)",
   "language": "python",
   "name": "python3"
  },
  "language_info": {
   "codemirror_mode": {
    "name": "ipython",
    "version": 3
   },
   "file_extension": ".py",
   "mimetype": "text/x-python",
   "name": "python",
   "nbconvert_exporter": "python",
   "pygments_lexer": "ipython3",
   "version": "3.8.2"
  }
 },
 "nbformat": 4,
 "nbformat_minor": 5
}